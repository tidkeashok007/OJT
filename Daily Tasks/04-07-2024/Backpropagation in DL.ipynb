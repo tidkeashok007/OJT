{
 "cells": [
  {
   "cell_type": "code",
   "execution_count": 2,
   "id": "d582b96e",
   "metadata": {},
   "outputs": [
    {
     "name": "stdout",
     "output_type": "stream",
     "text": [
      "Loss before backpropagation: 0.23371231582611554\n",
      "Loss after backpropagation: 0.21022225193900224\n"
     ]
    }
   ],
   "source": [
    "import numpy as np\n",
    "\n",
    "# Sigmoid activation function\n",
    "def sigmoid(x):\n",
    "    return 1 / (1 + np.exp(-x))\n",
    "\n",
    "# Input data (X) and actual output (y)\n",
    "X = np.array([[0.05, 0.10]])\n",
    "y = np.array([[0.01, 0.99]])\n",
    "\n",
    "# Initialize weights and biases randomly\n",
    "w1 = np.random.rand(2, 2)  # Weights between input and hidden layer\n",
    "w2 = np.random.rand(2, 2)  # Weights between hidden and output layer\n",
    "b1 = np.random.rand(1, 2)  # Bias for hidden layer\n",
    "b2 = np.random.rand(1, 2)  # Bias for output layer\n",
    "\n",
    "# Learning rate\n",
    "lr = 0.5\n",
    "\n",
    "# Training for 1 epoch (for simplicity)\n",
    "# Forward pass: input to hidden layer\n",
    "z1 = np.dot(X, w1) + b1\n",
    "a1 = sigmoid(z1)\n",
    "\n",
    "# Forward pass: hidden layer to output layer\n",
    "z2 = np.dot(a1, w2) + b2\n",
    "a2 = sigmoid(z2)\n",
    "\n",
    "# Calculate loss (Mean Squared Error)\n",
    "loss = np.mean((a2 - y) ** 2)\n",
    "print(f'Loss before backpropagation: {loss}')\n",
    "\n",
    "# Backward pass\n",
    "# Error at output layer\n",
    "error_output = a2 - y\n",
    "\n",
    "# Gradient of the loss with respect to output (a2)\n",
    "delta_output = error_output * a2 * (1 - a2)  # sigmoid derivative\n",
    "\n",
    "# Error at hidden layer\n",
    "error_hidden = np.dot(delta_output, w2.T)\n",
    "\n",
    "# Gradient of the loss with respect to hidden layer (a1)\n",
    "delta_hidden = error_hidden * a1 * (1 - a1)  # sigmoid derivative\n",
    "\n",
    "# Update weights and biases\n",
    "w2 -= lr * np.dot(a1.T, delta_output)\n",
    "b2 -= lr * delta_output\n",
    "\n",
    "w1 -= lr * np.dot(X.T, delta_hidden)\n",
    "b1 -= lr * delta_hidden\n",
    "\n",
    "# Forward pass again to check new loss\n",
    "z1 = np.dot(X, w1) + b1\n",
    "a1 = sigmoid(z1)\n",
    "\n",
    "z2 = np.dot(a1, w2) + b2\n",
    "a2 = sigmoid(z2)\n",
    "\n",
    "loss = np.mean((a2 - y) ** 2)\n",
    "print(f'Loss after backpropagation: {loss}')\n"
   ]
  },
  {
   "cell_type": "code",
   "execution_count": null,
   "id": "5482dec2",
   "metadata": {},
   "outputs": [],
   "source": []
  }
 ],
 "metadata": {
  "kernelspec": {
   "display_name": "Python 3 (ipykernel)",
   "language": "python",
   "name": "python3"
  },
  "language_info": {
   "codemirror_mode": {
    "name": "ipython",
    "version": 3
   },
   "file_extension": ".py",
   "mimetype": "text/x-python",
   "name": "python",
   "nbconvert_exporter": "python",
   "pygments_lexer": "ipython3",
   "version": "3.10.9"
  }
 },
 "nbformat": 4,
 "nbformat_minor": 5
}
