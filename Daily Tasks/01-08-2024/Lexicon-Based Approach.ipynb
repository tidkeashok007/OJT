{
 "cells": [
  {
   "cell_type": "code",
   "execution_count": 3,
   "id": "dc717ed8",
   "metadata": {},
   "outputs": [
    {
     "name": "stdout",
     "output_type": "stream",
     "text": [
      "Overall Sentiment is: Neutral\n"
     ]
    }
   ],
   "source": [
    "#Simple aggregation\n",
    "\n",
    "sentiments = ['Positive','Negative','Positive','Neutral', 'Negative']\n",
    "\n",
    "#counting each sentiment\n",
    "positive_count = sentiments.count('Positive')\n",
    "negative_count = sentiments.count('Negative')\n",
    "neutral_count = sentiments.count('Neutral')\n",
    "\n",
    "#Determine the overall sentiment\n",
    "if positive_count > negative_count and positive_count > neutral_count:\n",
    "    overall_sentiment = 'Positive'\n",
    "elif negative_count > positive_count and negative_count > neutral_count:\n",
    "    overall_sentiment = 'Negative'\n",
    "else:\n",
    "    overall_sentiment = 'Neutral'\n",
    "    \n",
    "\n",
    "print(f\"Overall Sentiment is: {overall_sentiment}\")"
   ]
  },
  {
   "cell_type": "code",
   "execution_count": 7,
   "id": "e614d9bc",
   "metadata": {},
   "outputs": [
    {
     "name": "stdout",
     "output_type": "stream",
     "text": [
      "Overall Sentiment is: Positive\n"
     ]
    }
   ],
   "source": [
    "#weighted aggregation\n",
    "\n",
    "sentiments = ['Positive','Negative','Positive','Neutral', 'Positive']\n",
    "weights = [1,2,1,1,1]\n",
    "\n",
    "#intialize the scores\n",
    "positive_count = 0\n",
    "negative_count = 0\n",
    "neutral_count = 0\n",
    "\n",
    "#calculate the weighted scores\n",
    "for sentiment , weight in zip(sentiments,weights):\n",
    "    if sentiment == 'Positive':\n",
    "        positive_count += weight\n",
    "    elif sentiment == 'Negative':\n",
    "        negative_count += weight\n",
    "    elif sentiment == 'Neutral':\n",
    "        neutral_count += weight\n",
    "\n",
    "#Determine the overall sentiment\n",
    "if positive_count > negative_count and positive_count > neutral_count:\n",
    "    overall_sentiment = 'Positive'\n",
    "elif negative_count > positive_count and negative_count > neutral_count:\n",
    "    overall_sentiment = 'Negative'\n",
    "else:\n",
    "    overall_sentiment = 'Neutral'\n",
    "    \n",
    "\n",
    "print(f\"Overall Sentiment is: {overall_sentiment}\")"
   ]
  },
  {
   "cell_type": "code",
   "execution_count": null,
   "id": "9aef3bd6",
   "metadata": {},
   "outputs": [],
   "source": []
  }
 ],
 "metadata": {
  "kernelspec": {
   "display_name": "Python 3 (ipykernel)",
   "language": "python",
   "name": "python3"
  },
  "language_info": {
   "codemirror_mode": {
    "name": "ipython",
    "version": 3
   },
   "file_extension": ".py",
   "mimetype": "text/x-python",
   "name": "python",
   "nbconvert_exporter": "python",
   "pygments_lexer": "ipython3",
   "version": "3.10.9"
  }
 },
 "nbformat": 4,
 "nbformat_minor": 5
}
