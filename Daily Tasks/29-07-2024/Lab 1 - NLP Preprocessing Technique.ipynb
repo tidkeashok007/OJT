{
 "cells": [
  {
   "cell_type": "code",
   "execution_count": null,
   "metadata": {},
   "outputs": [],
   "source": [
    "# To install the necessary libraries\n",
    "!pip install nltk spacy\n",
    "!python -m spacy download en_core_web_sm\n"
   ]
  },
  {
   "cell_type": "code",
   "execution_count": 2,
   "metadata": {},
   "outputs": [
    {
     "name": "stderr",
     "output_type": "stream",
     "text": [
      "[nltk_data] Downloading package punkt to\n",
      "[nltk_data]     C:\\Users\\bhawa\\AppData\\Roaming\\nltk_data...\n",
      "[nltk_data]   Unzipping tokenizers\\punkt.zip.\n"
     ]
    },
    {
     "name": "stdout",
     "output_type": "stream",
     "text": [
      "Word Tokens: ['Natural', 'Language', 'Processing', 'is', 'fun', '.', 'Let', \"'s\", 'learn', 'more', 'about', 'it', '.']\n",
      "Sentence Tokens: ['Natural Language Processing is fun.', \"Let's learn more about it.\"]\n"
     ]
    }
   ],
   "source": [
    "# Sentence and Word tokenization using NLTK.\n",
    "from nltk import download\n",
    "download('punkt')\n",
    "\n",
    "from nltk.tokenize import word_tokenize, sent_tokenize\n",
    "\n",
    "text = \"Natural Language Processing is fun. Let's learn more about it.\"\n",
    "\n",
    "# Word Tokenization\n",
    "word_tokens = word_tokenize(text)\n",
    "print(\"Word Tokens:\", word_tokens)\n",
    "\n",
    "# Sentence Tokenization\n",
    "sentence_tokens = sent_tokenize(text)\n",
    "print(\"Sentence Tokens:\", sentence_tokens)\n"
   ]
  },
  {
   "cell_type": "code",
   "execution_count": 12,
   "metadata": {},
   "outputs": [
    {
     "name": "stdout",
     "output_type": "stream",
     "text": [
      "Word Tokens: ['Natural', 'Language', 'Processing', 'is', 'fun', '.', 'Let', \"'s\", 'learn', 'more', 'about', 'it', '.']\n",
      "Sentence Tokens: ['Natural Language Processing is fun.', \"Let's learn more about it.\"]\n"
     ]
    }
   ],
   "source": [
    "# using Spacy\n",
    "import spacy\n",
    "\n",
    "nlp = spacy.load('en_core_web_sm')\n",
    "doc = nlp(text)\n",
    "\n",
    "# Word Tokenization\n",
    "word_tokens = [token.text for token in doc]\n",
    "print(\"Word Tokens:\", word_tokens)\n",
    "\n",
    "# Sentence Tokenization\n",
    "sentence_tokens = [sent.text for sent in doc.sents]\n",
    "print(\"Sentence Tokens:\", sentence_tokens)"
   ]
  },
  {
   "cell_type": "markdown",
   "metadata": {},
   "source": [
    "#### Stemming Using NLTK"
   ]
  },
  {
   "cell_type": "code",
   "execution_count": 13,
   "metadata": {},
   "outputs": [
    {
     "name": "stdout",
     "output_type": "stream",
     "text": [
      "Porter Stemming: ['run', 'runner', 'run', 'happi', 'happili']\n",
      "Snowball Stemming: ['run', 'runner', 'run', 'happi', 'happili']\n"
     ]
    }
   ],
   "source": [
    "from nltk.stem import PorterStemmer, SnowballStemmer\n",
    "\n",
    "words = [\"running\", \"runner\", \"runs\", \"happiness\", \"happily\"]\n",
    "\n",
    "# Porter Stemmer\n",
    "porter = PorterStemmer()\n",
    "porter_stems = [porter.stem(word) for word in words]\n",
    "print(\"Porter Stemming:\", porter_stems)\n",
    "\n",
    "# Snowball Stemmer\n",
    "snowball = SnowballStemmer(language='english')\n",
    "snowball_stems = [snowball.stem(word) for word in words]\n",
    "print(\"Snowball Stemming:\", snowball_stems)\n"
   ]
  },
  {
   "cell_type": "markdown",
   "metadata": {},
   "source": [
    "#### Lemmatization using NLTK"
   ]
  },
  {
   "cell_type": "code",
   "execution_count": 15,
   "metadata": {},
   "outputs": [
    {
     "name": "stderr",
     "output_type": "stream",
     "text": [
      "[nltk_data] Downloading package wordnet to\n",
      "[nltk_data]     C:\\Users\\bhawa\\AppData\\Roaming\\nltk_data...\n",
      "[nltk_data] Downloading package omw-1.4 to\n",
      "[nltk_data]     C:\\Users\\bhawa\\AppData\\Roaming\\nltk_data...\n"
     ]
    },
    {
     "name": "stdout",
     "output_type": "stream",
     "text": [
      "Lemmatized (Verb): ['run', 'runner', 'run', 'happiness', 'happily', 'better']\n",
      "Lemmatized (Adjective): ['running', 'runner', 'runs', 'happiness', 'happily', 'good']\n"
     ]
    }
   ],
   "source": [
    "from nltk.stem import WordNetLemmatizer\n",
    "from nltk.corpus import wordnet\n",
    "\n",
    "download('wordnet')\n",
    "download('omw-1.4')\n",
    "\n",
    "lemmatizer = WordNetLemmatizer()\n",
    "words = [\"running\", \"runner\", \"runs\", \"happiness\", \"happily\", \"better\"]\n",
    "\n",
    "# Lemmatizing with part-of-speech tagging\n",
    "lemmas = [lemmatizer.lemmatize(word, pos=wordnet.VERB) for word in words]\n",
    "print(\"Lemmatized (Verb):\", lemmas)\n",
    "\n",
    "lemmas = [lemmatizer.lemmatize(word, pos=wordnet.ADJ) for word in words]\n",
    "print(\"Lemmatized (Adjective):\", lemmas)\n"
   ]
  },
  {
   "cell_type": "markdown",
   "metadata": {},
   "source": [
    "#### Lemmatization using Spacy"
   ]
  },
  {
   "cell_type": "code",
   "execution_count": 16,
   "metadata": {},
   "outputs": [
    {
     "name": "stdout",
     "output_type": "stream",
     "text": [
      "Lemmatized: ['run', 'runner', 'run', 'happiness', 'happily', 'well']\n"
     ]
    }
   ],
   "source": [
    "doc = nlp(\"running runner runs happiness happily better\")\n",
    "\n",
    "lemmas = [token.lemma_ for token in doc]\n",
    "print(\"Lemmatized:\", lemmas)"
   ]
  },
  {
   "cell_type": "markdown",
   "metadata": {},
   "source": []
  }
 ],
 "metadata": {
  "kernelspec": {
   "display_name": "dataScience",
   "language": "python",
   "name": "python3"
  },
  "language_info": {
   "codemirror_mode": {
    "name": "ipython",
    "version": 3
   },
   "file_extension": ".py",
   "mimetype": "text/x-python",
   "name": "python",
   "nbconvert_exporter": "python",
   "pygments_lexer": "ipython3",
   "version": "3.11.4"
  }
 },
 "nbformat": 4,
 "nbformat_minor": 2
}
