{
 "cells": [
  {
   "cell_type": "markdown",
   "metadata": {},
   "source": [
    "### Lab 1 : Sentiment Analysis Using Opinion Lexicon"
   ]
  },
  {
   "cell_type": "markdown",
   "metadata": {},
   "source": [
    "#### Sentiment analysis\n",
    "Sentiment analysis, the process of determining the emotional tone behind words, can be approached using various techniques. Here are three primary categories: lexicon-based, machine learning-based, and deep learning-based techniques.\n",
    "\n",
    "#### Techniques for sentiment analysis: \n",
    "- Lexicon-based \n",
    "- Machine Learning-based\n",
    "- Deep Learning-based\n",
    "\n",
    "#### 1. Lexicon-Based Techniques\n",
    "Lexicon-based techniques rely on a predefined list of words (a lexicon) that are associated with specific sentiment scores. These techniques can be further divided into dictionary-based and corpus-based approaches.\n",
    "\n",
    "**Dictionary-Based Approach** <br>\n",
    "This approach uses sentiment dictionaries where each word is assigned a sentiment score. Common dictionaries include:\n",
    "\n",
    "**SentiWordNet:** Each word is annotated with positive, negative, and objective scores. <br>\n",
    "**AFINN:** Words are rated on a scale from -5 to +5 based on their sentiment"
   ]
  },
  {
   "cell_type": "code",
   "execution_count": 2,
   "metadata": {},
   "outputs": [
    {
     "name": "stdout",
     "output_type": "stream",
     "text": [
      "Sentiment Score: 2\n",
      "The sentiment is positive.\n"
     ]
    },
    {
     "name": "stderr",
     "output_type": "stream",
     "text": [
      "[nltk_data] Downloading package opinion_lexicon to\n",
      "[nltk_data]     C:\\Users\\bhawa\\AppData\\Roaming\\nltk_data...\n",
      "[nltk_data]   Package opinion_lexicon is already up-to-date!\n"
     ]
    }
   ],
   "source": [
    "from nltk.corpus import opinion_lexicon\n",
    "from nltk.tokenize import word_tokenize\n",
    "import nltk\n",
    "\n",
    "nltk.download('opinion_lexicon')\n",
    "\n",
    "# Sample text\n",
    "text = \"I love this product! It is absolutely amazing.\"\n",
    "\n",
    "# Tokenize the text\n",
    "words = word_tokenize(text.lower())\n",
    "\n",
    "# Get positive and negative words from opinion lexicon\n",
    "positive_words = set(opinion_lexicon.positive())\n",
    "negative_words = set(opinion_lexicon.negative())\n",
    "\n",
    "# Calculate sentiment\n",
    "positive_score = sum(1 for word in words if word in positive_words)\n",
    "negative_score = sum(1 for word in words if word in negative_words)\n",
    "sentiment_score = positive_score - negative_score\n",
    "\n",
    "print(\"Sentiment Score:\", sentiment_score)\n",
    "if sentiment_score>0 :\n",
    "    print(\"The sentiment is positive.\")\n",
    "else:\n",
    "    print(\"The sentiment is negative.\")\n"
   ]
  },
  {
   "cell_type": "code",
   "execution_count": null,
   "metadata": {},
   "outputs": [],
   "source": []
  }
 ],
 "metadata": {
  "kernelspec": {
   "display_name": "dataScience",
   "language": "python",
   "name": "python3"
  },
  "language_info": {
   "codemirror_mode": {
    "name": "ipython",
    "version": 3
   },
   "file_extension": ".py",
   "mimetype": "text/x-python",
   "name": "python",
   "nbconvert_exporter": "python",
   "pygments_lexer": "ipython3",
   "version": "3.11.9"
  }
 },
 "nbformat": 4,
 "nbformat_minor": 2
}
