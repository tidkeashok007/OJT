{
 "cells": [
  {
   "cell_type": "markdown",
   "metadata": {},
   "source": [
    "### Lexicon-based NER"
   ]
  },
  {
   "cell_type": "code",
   "execution_count": 1,
   "metadata": {},
   "outputs": [],
   "source": [
    "import re\n",
    "import nltk\n",
    "from nltk.tokenize import word_tokenize"
   ]
  },
  {
   "cell_type": "code",
   "execution_count": 2,
   "metadata": {},
   "outputs": [],
   "source": [
    "# Sample text\n",
    "text = \"John Doe is the CEO of OpenAI. He lives in San Francisco.\""
   ]
  },
  {
   "cell_type": "code",
   "execution_count": 3,
   "metadata": {},
   "outputs": [],
   "source": [
    "# Lexicons for different entity types\n",
    "person_lexicon = {\"John Doe\", \"Alice\", \"Bob\"}\n",
    "organization_lexicon = {\"OpenAI\", \"Google\", \"Microsoft\"}\n",
    "location_lexicon = {\"San Francisco\", \"New York\", \"Los Angeles\"}\n"
   ]
  },
  {
   "cell_type": "code",
   "execution_count": 4,
   "metadata": {},
   "outputs": [
    {
     "name": "stdout",
     "output_type": "stream",
     "text": [
      "Lexicon-based NER:\n",
      "[('OpenAI', 'ORG')]\n"
     ]
    }
   ],
   "source": [
    "\n",
    "def lexicon_based_ner(text):\n",
    "    entities = []\n",
    "    tokens = word_tokenize(text)\n",
    "    for token in tokens:\n",
    "        if token in person_lexicon:\n",
    "            entities.append((token, \"PERSON\"))\n",
    "        elif token in organization_lexicon:\n",
    "            entities.append((token, \"ORG\"))\n",
    "        elif token in location_lexicon:\n",
    "            entities.append((token, \"LOC\"))\n",
    "    return entities\n",
    "\n",
    "print(\"Lexicon-based NER:\")\n",
    "print(lexicon_based_ner(text))\n"
   ]
  },
  {
   "cell_type": "code",
   "execution_count": null,
   "metadata": {},
   "outputs": [],
   "source": []
  },
  {
   "cell_type": "markdown",
   "metadata": {},
   "source": []
  }
 ],
 "metadata": {
  "kernelspec": {
   "display_name": "dataScience",
   "language": "python",
   "name": "python3"
  },
  "language_info": {
   "codemirror_mode": {
    "name": "ipython",
    "version": 3
   },
   "file_extension": ".py",
   "mimetype": "text/x-python",
   "name": "python",
   "nbconvert_exporter": "python",
   "pygments_lexer": "ipython3",
   "version": "3.11.9"
  }
 },
 "nbformat": 4,
 "nbformat_minor": 2
}
